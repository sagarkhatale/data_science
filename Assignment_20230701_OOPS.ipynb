{
 "cells": [
  {
   "cell_type": "code",
   "execution_count": null,
   "id": "f951df45",
   "metadata": {},
   "outputs": [],
   "source": [
    "\"\"\"\n",
    "1. What is the primary goal of Object-Oriented Programming (OOP)?\n",
    "\n",
    "Answer:\n",
    "\n",
    "OOPs is model based on objects and classes. Object is any real world entity. Below are the goals of OOP -\n",
    "\n",
    "a) Modular code # Decomposing a large/complex code into smaller chunks is good practice. It helps to maintain\n",
    "   the code, increase readability, easy troubleshooting.\n",
    "\n",
    "b) Re-usability # Creating objects, functions and use them later as and when required. This helps to avoid\n",
    "   re-writing the code.\n",
    "\n",
    "c) Security # Using encapsulation, abstraction helps to maintain security.\n",
    "\n",
    "d) Flexibility # Polymorphism allows the use of one function in derived classes.\n",
    "\n",
    "\"\"\"\n"
   ]
  },
  {
   "cell_type": "code",
   "execution_count": null,
   "id": "37b38d27",
   "metadata": {},
   "outputs": [],
   "source": [
    "\"\"\"\n",
    "3. What is a class in Python?\n",
    "\n",
    "Answer: A class is code template for creating objects. It is like blueprint. Class provides a means of binding\n",
    "data and functionality together.\n",
    "\n",
    "\"\"\"\n"
   ]
  },
  {
   "cell_type": "code",
   "execution_count": null,
   "id": "377111b6",
   "metadata": {},
   "outputs": [],
   "source": [
    "\"\"\"\n",
    "4. What are attributes and methods in a class?\n",
    "\n",
    "Answer: \n",
    "Attributes are the variables that belong to class.\n",
    "Methods are the functions that belong to class.\n",
    "\n",
    "\"\"\"\n"
   ]
  },
  {
   "cell_type": "code",
   "execution_count": null,
   "id": "223191de",
   "metadata": {},
   "outputs": [],
   "source": [
    "\"\"\"\n",
    "2. What is an object in Python?\n",
    "\n",
    "Answer:An instance of class in an Object.\n",
    "\n",
    "\"\"\"\n"
   ]
  },
  {
   "cell_type": "code",
   "execution_count": null,
   "id": "5c877f57",
   "metadata": {},
   "outputs": [],
   "source": [
    "\"\"\"\n",
    "5. What is the difference between class variables and instance variables in Python?\n",
    "\n",
    "Answer:\n",
    "Variables declared inside class (but outside of any class method) are the class variables. They are not\n",
    "associated with with any object but with class. Changing class variables affects all objects of that class.\n",
    "\n",
    "Variables declared inside the constructor method of class are instance variables. They are associated with\n",
    "perticular instance of the class.\n",
    "\n",
    "\"\"\"\n"
   ]
  },
  {
   "cell_type": "code",
   "execution_count": null,
   "id": "8fa75989",
   "metadata": {},
   "outputs": [],
   "source": [
    "\"\"\"\n",
    "6. What is the purpose of the self parameter in Python class methods?\n",
    "\n",
    "Answer: self represents the instance of the class. By using self we can access the attributes and methods\n",
    "of the class.\n",
    "\n",
    "\"\"\"\n"
   ]
  },
  {
   "cell_type": "code",
   "execution_count": 29,
   "id": "a49a9463",
   "metadata": {},
   "outputs": [
    {
     "name": "stdout",
     "output_type": "stream",
     "text": [
      "\"Chchava\" written by Shivaji Sawant\n",
      "ISBN : 9788184984903\n",
      "Published in 1979\n",
      "9999 copies available.\n",
      "\n",
      "1st checkuot\n",
      "\"Chchava\" checked-out. Available copies are 9998.\n",
      "\n",
      "2nd checkuot\n",
      "\"Chchava\" checked-out. Available copies are 9997.\n",
      "\n",
      "3rd checkuot\n",
      "\"Chchava\" checked-out. Available copies are 9996.\n",
      "\n",
      "1st return\n",
      "\"Chchava\" returned. Available copies are 9997.\n"
     ]
    }
   ],
   "source": [
    "\"\"\"\n",
    "7. For a library management system, you have to design the \"Book\" class with OOP\n",
    "principles in mind. The “Book” class will have following attributes:\n",
    "a. title: Represents the title of the book.\n",
    "b. author: Represents the author(s) of the book.\n",
    "c. isbn: Represents the ISBN (International Standard Book Number) of the book.\n",
    "d. publication_year: Represents the year of publication of the book.\n",
    "e. available_copies: Represents the number of copies available for checkout.\n",
    "The class will also include the following methods:\n",
    "a. check_out(self): Decrements the available copies by one if there are copies\n",
    "available for checkout.\n",
    "b. return_book(self): Increments the available copies by one when a book is\n",
    "returned.\n",
    "c. display_book_info(self): Displays the information about the book, including its\n",
    "attributes and the number of available copies.\n",
    "\n",
    "Answer:\n",
    "\n",
    "\"\"\"\n",
    "\n",
    "class Book:\n",
    "    # class attributes\n",
    "    title = 'Chchava'\n",
    "    author = 'Shivaji Sawant'\n",
    "    isbn = '9788184984903'\n",
    "    pub_year = 1979\n",
    "    avl_copies = 9999\n",
    "    \n",
    "    # instane method\n",
    "    def check_out(self):\n",
    "        if self.avl_copies > 0:\n",
    "            self.avl_copies -= 1\n",
    "            print(f'\"{self.title}\" checked-out. Available copies are {self.avl_copies}.')\n",
    "        else:\n",
    "            print(f'\"{self.title}\" not available now. Please check after some days.')\n",
    "            \n",
    "    # instane method\n",
    "    def return_book(self):\n",
    "        self.avl_copies += 1\n",
    "        print(f'\"{self.title}\" returned. Available copies are {self.avl_copies}.')\n",
    "    \n",
    "    # instane method\n",
    "    def display_book_info(self):\n",
    "        print(f'\"{self.title}\" written by {self.author}')\n",
    "        print(f'ISBN : {self.isbn}')\n",
    "        print(f'Published in {self.pub_year}')\n",
    "        print(f'{self.avl_copies} copies available.')\n",
    "        \n",
    "b1001 = Book()\n",
    "b1001.display_book_info()\n",
    "\n",
    "print('\\n1st checkuot')\n",
    "b1001.check_out()\n",
    "print('\\n2nd checkuot')\n",
    "b1001.check_out()\n",
    "print('\\n3rd checkuot')\n",
    "b1001.check_out()\n",
    "\n",
    "print('\\n1st return')\n",
    "b1001.return_book()\n"
   ]
  },
  {
   "cell_type": "code",
   "execution_count": 48,
   "id": "543e9cda",
   "metadata": {},
   "outputs": [
    {
     "name": "stdout",
     "output_type": "stream",
     "text": [
      "\"KK Concert\" event on 22-Jul-2023 at Dreams Elina, Hadapsar\n",
      "Price : Rs.250\n",
      "Ticket No : T1001\n",
      "Seats : A01-A04\n",
      "Is reservation done ? N\n"
     ]
    }
   ],
   "source": [
    "\"\"\"\n",
    "8. For a ticket booking system, you have to design the \"Ticket\" class with OOP\n",
    "principles in mind. The “Ticket” class should have the following attributes:\n",
    "a. ticket_id: Represents the unique identifier for the ticket.\n",
    "b. event_name: Represents the name of the event.\n",
    "c. event_date: Represents the date of the event.\n",
    "d. venue: Represents the venue of the event.\n",
    "e. seat_number: Represents the seat number associated with the ticket.\n",
    "f. price: Represents the price of the ticket.\n",
    "g. is_reserved: Represents the reservation status of the ticket.\n",
    "The class also includes the following methods:\n",
    "a. reserve_ticket(self): Marks the ticket as reserved if it is not already reserved.\n",
    "b. cancel_reservation(self): Cancels the reservation of the ticket if it is already\n",
    "reserved.\n",
    "c. display_ticket_info(self): Displays the information about the ticket, including its\n",
    "attributes and reservation status.\n",
    "\n",
    "Answer:\n",
    "\n",
    "\"\"\"\n",
    "\n",
    "class Ticket:\n",
    "    # class attributes\n",
    "    tckt_id = 'T1001'\n",
    "    evnt = 'KK Concert'\n",
    "    evnt_dt = '22-Jul-2023'\n",
    "    venue = 'Dreams Elina, Hadapsar'\n",
    "    seat = 'A01-A04'\n",
    "    price = 250\n",
    "    is_rsrv = 'N'\n",
    "    \n",
    "    # display event details\n",
    "    def display_ticket_info(self):\n",
    "        print(f'\"{self.evnt}\" event on {self.evnt_dt} at {self.venue}')\n",
    "        print(f'Price : Rs.{self.price}')\n",
    "        print(f'Ticket No : {self.tckt_id}')\n",
    "        print(f'Seats : {self.seat}')\n",
    "        print(f'Is reservation done ? {self.is_rsrv}')\n",
    "        \n",
    "    # reserve event ticket\n",
    "    def reserve_ticket(self):\n",
    "        self.is_rsrv = 'Y'\n",
    "        print(f'{self.tckt_id} reserved.\\n')\n",
    "            \n",
    "    # cancel event ticket\n",
    "    def cancel_reservation(self):\n",
    "        if self.is_rsrv == 'Y':\n",
    "            self.is_rsrv = 'N'\n",
    "            print(f'{self.tckt_id} reservation cancelled.\\n')\n",
    "        else:\n",
    "            print(f'{self.tckt_id} not reserved.\\n')\n",
    "\n",
    "ev_1001 = Ticket()\n",
    "ev_1001.display_ticket_info()\n"
   ]
  },
  {
   "cell_type": "code",
   "execution_count": 49,
   "id": "b3b261b3",
   "metadata": {},
   "outputs": [
    {
     "name": "stdout",
     "output_type": "stream",
     "text": [
      "T1001 reserved.\n",
      "\n",
      "\"KK Concert\" event on 22-Jul-2023 at Dreams Elina, Hadapsar\n",
      "Price : Rs.250\n",
      "Ticket No : T1001\n",
      "Seats : A01-A04\n",
      "Is reservation done ? Y\n"
     ]
    }
   ],
   "source": [
    "ev_1001.reserve_ticket()\n",
    "ev_1001.display_ticket_info()\n"
   ]
  },
  {
   "cell_type": "code",
   "execution_count": 50,
   "id": "7ad8e3ba",
   "metadata": {},
   "outputs": [
    {
     "name": "stdout",
     "output_type": "stream",
     "text": [
      "T1001 reservation cancelled.\n",
      "\n",
      "\"KK Concert\" event on 22-Jul-2023 at Dreams Elina, Hadapsar\n",
      "Price : Rs.250\n",
      "Ticket No : T1001\n",
      "Seats : A01-A04\n",
      "Is reservation done ? N\n"
     ]
    }
   ],
   "source": [
    "ev_1001.cancel_reservation()\n",
    "ev_1001.display_ticket_info()\n"
   ]
  },
  {
   "cell_type": "code",
   "execution_count": 51,
   "id": "2ef80f62",
   "metadata": {},
   "outputs": [
    {
     "name": "stdout",
     "output_type": "stream",
     "text": [
      "T1001 not reserved.\n",
      "\n",
      "\"KK Concert\" event on 22-Jul-2023 at Dreams Elina, Hadapsar\n",
      "Price : Rs.250\n",
      "Ticket No : T1001\n",
      "Seats : A01-A04\n",
      "Is reservation done ? N\n"
     ]
    }
   ],
   "source": [
    "ev_1001.cancel_reservation()\n",
    "ev_1001.display_ticket_info()\n"
   ]
  },
  {
   "cell_type": "code",
   "execution_count": 1,
   "id": "a5aa07f3",
   "metadata": {},
   "outputs": [
    {
     "name": "stdout",
     "output_type": "stream",
     "text": [
      "Jaggery added to cart.\n",
      "Cart itemns are -\n",
      "Jaggery\n",
      "\n",
      "Almond added to cart.\n",
      "Cart itemns are -\n",
      "Jaggery\n",
      "Almond\n",
      "\n",
      "Cart itemns are -\n",
      "Jaggery\n",
      "Almond\n",
      "\n"
     ]
    }
   ],
   "source": [
    "\"\"\"\n",
    "9. You are creating a shopping cart for an e-commerce website. Using OOP to model\n",
    "the \"ShoppingCart\" functionality the class should contain following attributes and\n",
    "methods:\n",
    "a. items: Represents the list of items in the shopping cart.\n",
    "The class also includes the following methods:\n",
    "a. add_item(self, item): Adds an item to the shopping cart by appending it to the list of items.\n",
    "b. remove_item(self, item): Removes an item from the shopping cart if it exists in the list.\n",
    "c. view_cart(self): Displays the items currently present in the shopping cart.\n",
    "d. clear_cart(self): Clears all items from the shopping cart by reassigning an empty list to the items attribute.\n",
    "\n",
    "Answer:\n",
    "\n",
    "\"\"\"\n",
    "\n",
    "class ShoppingCart:\n",
    "    items = []\n",
    "    \n",
    "    def add_item(self, item):\n",
    "        self.items.append(item)\n",
    "        print(f'{item} added to cart.')\n",
    "        self.view_cart()\n",
    "        \n",
    "    def remove_item(self, item):\n",
    "        self.items.remove(item)\n",
    "        print(f'{item} removed from cart.')\n",
    "        self.view_cart()\n",
    "        \n",
    "    def view_cart(self):\n",
    "        if len(self.items) == 0:\n",
    "            print('Cart is EMPTY. Please add item(s).')\n",
    "        else:\n",
    "            print('Cart itemns are -')\n",
    "            for x in self.items:\n",
    "                print(f'{x}')\n",
    "            \n",
    "        print()\n",
    "            \n",
    "    def clear_cart(self):\n",
    "        self.items.clear()\n",
    "        self.view_cart()\n",
    "\n",
    "cart_01 = ShoppingCart()\n",
    "\n",
    "cart_01.add_item('Jaggery')\n",
    "cart_01.add_item('Almond')\n",
    "cart_01.view_cart()\n"
   ]
  },
  {
   "cell_type": "code",
   "execution_count": 2,
   "id": "029783f0",
   "metadata": {},
   "outputs": [
    {
     "name": "stdout",
     "output_type": "stream",
     "text": [
      "Mobile added to cart.\n",
      "Cart itemns are -\n",
      "Jaggery\n",
      "Almond\n",
      "Mobile\n",
      "\n",
      "Almond removed from cart.\n",
      "Cart itemns are -\n",
      "Jaggery\n",
      "Mobile\n",
      "\n"
     ]
    }
   ],
   "source": [
    "cart_01.add_item('Mobile')\n",
    "cart_01.remove_item('Almond')\n"
   ]
  },
  {
   "cell_type": "code",
   "execution_count": 3,
   "id": "8bcd25a7",
   "metadata": {},
   "outputs": [
    {
     "name": "stdout",
     "output_type": "stream",
     "text": [
      "Cart is EMPTY. Please add item(s).\n",
      "\n"
     ]
    }
   ],
   "source": [
    "cart_01.clear_cart()\n"
   ]
  },
  {
   "cell_type": "code",
   "execution_count": 4,
   "id": "9af8e181",
   "metadata": {},
   "outputs": [
    {
     "name": "stdout",
     "output_type": "stream",
     "text": [
      "Avani Khatale attendance -\n",
      "Date : 03072023 - present\n",
      "Date : 04072023 - present\n",
      "Date : 05072023 - present\n",
      "Date : 06072023 - absent\n",
      "Date : 07072023 - present\n"
     ]
    }
   ],
   "source": [
    "\"\"\"\n",
    "10. Imagine a school management system. You have to design the \"Student\" class using OOP concepts.\n",
    "    The “Student” class has the following attributes:\n",
    "a. name: Represents the name of the student.\n",
    "b. age: Represents the age of the student.\n",
    "c. grade: Represents the grade or class of the student.\n",
    "d. student_id: Represents the unique identifier for the student.\n",
    "e. attendance: Represents the attendance record of the student.\n",
    "\n",
    "The class should also include the following methods:\n",
    "a. update_attendance(self, date, status): Updates the attendance record of the student for a given date with\n",
    "   the provided status (e.g., present or absent).\n",
    "b. get_attendance(self): Returns the attendance record of the student.\n",
    "c. get_average_attendance(self): Calculates and returns the average attendance percentage of the student\n",
    "   based on their attendance record.\n",
    "\n",
    "Answer:\n",
    "\n",
    "\"\"\"\n",
    "\n",
    "class Student:\n",
    "    name = 'Avani Khatale'\n",
    "    age = 9\n",
    "    grade = 4\n",
    "    student_id = 'AK25'\n",
    "    attendance = {'03072023':'present',\n",
    "                  '04072023':'present',\n",
    "                  '05072023':'present',\n",
    "                  '06072023':'absent',\n",
    "                  '07072023':'present'}\n",
    "    \n",
    "    def update_attendance(self, date, status):\n",
    "        self.attendance.update({date:status})\n",
    "    \n",
    "    def get_attendance(self):\n",
    "        print(f'{self.name} attendance -')\n",
    "        for dt, st in self.attendance.items():\n",
    "            print(f'Date : {dt} - {st}')\n",
    "            \n",
    "    def get_average_attendance(self):\n",
    "        tot_days = len(st_01.attendance.values())\n",
    "        present_days = list(st_01.attendance.values()).count(\"present\")\n",
    "        print(f'Presenty : {(100*present_days/tot_days):2.2f}%')\n",
    "\n",
    "st_01 = Student()\n",
    "st_01.get_attendance()\n"
   ]
  },
  {
   "cell_type": "code",
   "execution_count": 7,
   "id": "d60a071e",
   "metadata": {},
   "outputs": [
    {
     "name": "stdout",
     "output_type": "stream",
     "text": [
      "Enter date: 08072023\n",
      "Enter status(present/absent): absent\n",
      "\n",
      "Avani Khatale attendance -\n",
      "Date : 03072023 - present\n",
      "Date : 04072023 - present\n",
      "Date : 05072023 - present\n",
      "Date : 06072023 - absent\n",
      "Date : 07072023 - present\n",
      "Date : 08072023 - absent\n",
      "\n",
      "Presenty : 66.67%\n"
     ]
    }
   ],
   "source": [
    "s_dt = input('Enter date: ')\n",
    "s_st = input('Enter status(present/absent): ')\n",
    "st_01.update_attendance(s_dt, s_st)\n",
    "print()\n",
    "st_01.get_attendance()\n",
    "print()\n",
    "st_01.get_average_attendance()\n"
   ]
  },
  {
   "cell_type": "code",
   "execution_count": null,
   "id": "00a7b7bf",
   "metadata": {},
   "outputs": [],
   "source": []
  }
 ],
 "metadata": {
  "kernelspec": {
   "display_name": "Python 3",
   "language": "python",
   "name": "python3"
  },
  "language_info": {
   "codemirror_mode": {
    "name": "ipython",
    "version": 3
   },
   "file_extension": ".py",
   "mimetype": "text/x-python",
   "name": "python",
   "nbconvert_exporter": "python",
   "pygments_lexer": "ipython3",
   "version": "3.8.8"
  }
 },
 "nbformat": 4,
 "nbformat_minor": 5
}
