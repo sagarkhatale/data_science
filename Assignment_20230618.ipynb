{
 "cells": [
  {
   "cell_type": "code",
   "execution_count": 3,
   "id": "48f6f227",
   "metadata": {},
   "outputs": [
    {
     "name": "stdout",
     "output_type": "stream",
     "text": [
      "Enter first number: 88\n",
      "Enter second number: 8\n",
      "Input ok. Result 11.0\n"
     ]
    }
   ],
   "source": [
    "\"\"\"\n",
    "1. What is the role of the 'else' block in a try-except statement? Provide an example scenario where it \n",
    "would be useful.\n",
    "\n",
    "Answer:\n",
    "\n",
    "When no exception then else block will be executed. Please see below syntax of try-except block -\n",
    "\n",
    "try:\n",
    "    run this code\n",
    "except:\n",
    "    if exception then run this code\n",
    "else:\n",
    "    if no exception then run this code\n",
    "finally:\n",
    "    always run this code\n",
    "\n",
    "Consider example – divide by zero. If remainder is zero then throw error else good.\n",
    "\"\"\"\n",
    "try:\n",
    "    a = int(input('Enter first number: '))\n",
    "    b = int(input('Enter second number: '))\n",
    "    res = a / b\n",
    "    \n",
    "except ValueError as ve:\n",
    "    print(\"Please enter numeric values\")\n",
    "    \n",
    "except ZeroDivisionError as zde:\n",
    "    print(\"Remainder should be greater than Zero\")\n",
    "\n",
    "else:\n",
    "    print(f\"Input ok. Result {res}\")\n"
   ]
  },
  {
   "cell_type": "code",
   "execution_count": 8,
   "id": "50621584",
   "metadata": {},
   "outputs": [
    {
     "name": "stdout",
     "output_type": "stream",
     "text": [
      "Arithmetic operations\n",
      "Enter First Number: 99\n",
      "Enter Second Number: 9\n",
      "Division result = 11.0\n"
     ]
    }
   ],
   "source": [
    "\"\"\"\n",
    "2. Can a try-except block be nested inside another try-except block? Explain with an example.\n",
    "\n",
    "Answer:\n",
    "\n",
    "Yes. Nested try-except block is allowed. Developer can use this as per requirements.\n",
    "\"\"\"\n",
    "\n",
    "## Arithmetic Operations\n",
    "try:\n",
    "    print(\"Arithmetic operations\")\n",
    "    \n",
    "    num1 = int(input(\"Enter First Number: \"))\n",
    "    num2 = int(input(\"Enter Second Number: \"))\n",
    "    \n",
    "    try:\n",
    "        res = num1 / num2\n",
    "        print(f\"Division result = {res}\")\n",
    "\n",
    "    except ZeroDivisionError as zde:\n",
    "        print(f\"Zero Division Error - {zde}\")\n",
    "\n",
    "except ValueError as ve:\n",
    "    print(f\"Value Error - {ve}\")\n",
    "\n",
    "except ArithmeticError as ae:\n",
    "    print(f\"Arithmetic Error - {ae}\")\n"
   ]
  },
  {
   "cell_type": "code",
   "execution_count": 11,
   "id": "4b2bb7cc",
   "metadata": {},
   "outputs": [
    {
     "name": "stdout",
     "output_type": "stream",
     "text": [
      "Enter a number: 18\n",
      "Eligible to Vote.\n"
     ]
    }
   ],
   "source": [
    "\"\"\"\n",
    "3. How can you create a custom exception class in Python? Provide an example that demonstrates its usage.\n",
    "\n",
    "Answer:\n",
    "\n",
    "We can define custom exceptions by creating class which is derived from built-in Exception class.\n",
    "Please see below example for the same.\n",
    "\n",
    "\"\"\"\n",
    "\n",
    "# user defined exceptions\n",
    "class InvalidAgeException(Exception):\n",
    "    \"Raised when the input value is less than 18\"\n",
    "    pass\n",
    "\n",
    "# enter age\n",
    "min_age = 18\n",
    "\n",
    "try:\n",
    "    input_num = int(input(\"Enter a number: \"))\n",
    "    \n",
    "    if input_num < min_age:\n",
    "        raise InvalidAgeException\n",
    "    else:\n",
    "        print(\"Eligible to Vote.\")\n",
    "        \n",
    "except InvalidAgeException:\n",
    "    print(\"Exception occurred: Invalid Age\")\n"
   ]
  },
  {
   "cell_type": "code",
   "execution_count": null,
   "id": "c24c05e3",
   "metadata": {},
   "outputs": [],
   "source": [
    "\"\"\"\n",
    "4. What are some common exceptions that are built-in to Python?\n",
    "\n",
    "Answer:\n",
    "\n",
    "a) Exception – all built-in exceptions are derived from this class. All user defined exceptions should also \n",
    "be derived from this class.\n",
    "b) ArithmeticError – base class for those built-in exceptions that are raised for various arithmetic errors. \n",
    "E.g. ZeroDivisionError, OverflowError, FloatingPointError\n",
    "c) BufferError – raised when buffer related operations can not be performed\n",
    "d) EOFError – raised when input function hits the end-of-file condition without reading any data.\n",
    "e) IndexError – raised when sequence subscript is out of range.\n",
    "\"\"\"\n"
   ]
  },
  {
   "cell_type": "code",
   "execution_count": null,
   "id": "4ab82dcc",
   "metadata": {},
   "outputs": [],
   "source": [
    "\"\"\"\n",
    "5. What is logging in Python, and why is it important in software development?\n",
    "\n",
    "Answer:\n",
    "\n",
    "Logging is a means of tracking events that happen when some software runs. It is important during developing, \n",
    "debugging and running the software. Python has built-in module “logging” which allows writing status messages \n",
    "to a file or any other output stream.\n",
    "\"\"\"\n"
   ]
  },
  {
   "cell_type": "code",
   "execution_count": 14,
   "id": "4d9b5baa",
   "metadata": {},
   "outputs": [
    {
     "name": "stderr",
     "output_type": "stream",
     "text": [
      "INFO:root:Arithmatic operations\n"
     ]
    },
    {
     "name": "stdout",
     "output_type": "stream",
     "text": [
      "Enter First Number: 85\n",
      "Enter Second Number: 5\n"
     ]
    },
    {
     "name": "stderr",
     "output_type": "stream",
     "text": [
      "DEBUG:root:Division result = 17.0\n"
     ]
    },
    {
     "name": "stdout",
     "output_type": "stream",
     "text": [
      "Division result = 17.0\n"
     ]
    }
   ],
   "source": [
    "\"\"\"\n",
    "6. Explain the purpose of log levels in Python logging and provide examples of when each log level would \n",
    "be appropriate.\n",
    "\n",
    "Answer:\n",
    "\n",
    "There are 5 built-in logging levels -\n",
    "a) Debug : these are used to give detailed information. Useful in debugging.\n",
    "b) Info : informative only. Program working expected.\n",
    "c) Warning : indicative only. Something unexpected happened.\n",
    "d) Error : software not able to perform some function and thrown error.\n",
    "e) Critical : program unable to continue execution.\n",
    "Based on requirement and developers need, either of above logging levels can be used.\n",
    "\"\"\"\n",
    "\n",
    "# Logging example\n",
    "import logging\n",
    "\n",
    "logging.basicConfig(level=logging.DEBUG)\n",
    "\n",
    "try:\n",
    "    logging.info(\"Arithmatic operations\")\n",
    "    \n",
    "    num1 = int(input(\"Enter First Number: \"))\n",
    "    num2 = int(input(\"Enter Second Number: \"))\n",
    "    \n",
    "    try:\n",
    "        res = num1 / num2\n",
    "        logging.debug(f\"Division result = {res}\")\n",
    "        print(f\"Division result = {res}\")\n",
    "    \n",
    "    except ZeroDivisionError as zde:\n",
    "        logging.warning(f\"Zero Division Error - {zde}\")\n",
    "\n",
    "except ValueError as ve:\n",
    "    logging.error(f\"Value Error - {ve}\")\n",
    "    \n",
    "except ArithmeticError as ae:\n",
    "    logging.error(f\"Arithmetic Error - {ae}\")\n"
   ]
  },
  {
   "cell_type": "code",
   "execution_count": 9,
   "id": "d46d425b",
   "metadata": {},
   "outputs": [
    {
     "name": "stderr",
     "output_type": "stream",
     "text": [
      "DEBUG:SSKLogger:This is DEBUG stmt\n",
      "INFO:SSKLogger:This is INFO stmt\n",
      "WARNING:SSKLogger:This is WARNING stmt\n",
      "ERROR:SSKLogger:This is ERROR stmt\n",
      "CRITICAL:SSKLogger:This is CRITICAL stmt\n"
     ]
    }
   ],
   "source": [
    "\"\"\"\n",
    "7. What are log formatters in Python logging and how can you customize the log message format using formatters?\n",
    "\n",
    "Answer:\n",
    "\n",
    "Log formatters are responsible for converting a LogRecord to a string which can be interpreted by either a \n",
    "human or an external system. The base Formatter allows formatting string to be specified.\n",
    "\n",
    "Syntax -\n",
    "class logging.Formatter('%(asctime)s - %(name)s - %(levelname)s - %(message)s')\n",
    "\n",
    "%(asctime)s # the time the log message was generated\n",
    "%(name)s # the name of the logger object\n",
    "%(levelname)s # the severity level of the log message\n",
    "%(message)s # the log message\n",
    "\n",
    "\"\"\"\n",
    "\n",
    "# logging and formatter\n",
    "\n",
    "import os\n",
    "import logging\n",
    "import datetime as dt\n",
    "\n",
    "logging.basicConfig(level = logging.WARNING)\n",
    "\n",
    "logger = logging.getLogger(\"SSKLogger\")     # logger name\n",
    "\n",
    "dir_path = r'/home/sagark/iNeuron/python_task/homework'\n",
    "today = dt.datetime.today()\n",
    "file_name = f\"log_{today.year}-{today.month:02}-{today.day:02}.log\"\n",
    "full_path = os.path.join(dir_path, file_name)\n",
    "fh = logging.FileHandler(full_path)\n",
    "fh.setLevel(logging.WARNING)\n",
    "\n",
    "# use formatter to format the strings\n",
    "formatter = logging.Formatter('%(asctime)s: %(name)s - %(levelname)s: %(message)s')\n",
    "fh.setFormatter(formatter)\n",
    "\n",
    "logger.addHandler(fh)\n",
    "\n",
    "logger.debug(\"This is DEBUG stmt\")\n",
    "logger.info(\"This is INFO stmt\")\n",
    "logger.warning(\"This is WARNING stmt\")\n",
    "logger.error(\"This is ERROR stmt\")\n",
    "logger.critical(\"This is CRITICAL stmt\")\n",
    "\n",
    "## Note -\n",
    "# As we set the file logger level to WARNING, DEBUG and INFO will not be logged to log file\n",
    "# For console, logger level set to DEBUG hence all logs displayed below\n"
   ]
  },
  {
   "cell_type": "code",
   "execution_count": null,
   "id": "959bd6f9",
   "metadata": {},
   "outputs": [],
   "source": [
    "\"\"\"\n",
    "8. How can you set up logging to capture log messages from multiple modules or classes in a Python application?\n",
    "\n",
    "Answer:\n",
    "    \n",
    "\"\"\"\n"
   ]
  },
  {
   "cell_type": "code",
   "execution_count": null,
   "id": "639d4a41",
   "metadata": {},
   "outputs": [],
   "source": [
    "\"\"\"\n",
    "9. What is the difference between the logging and print statements in Python?\n",
    "When should you use logging over print statements in a real-world application?\n",
    "\n",
    "Answer:\n",
    "\n",
    "Logging is technique to display useful information to user. Logging is best ptactice for Production env.\n",
    "Logging module provide feature such as levels and filtering.\n",
    "\n",
    "Print is built-in function to display info on console. It is mainly used for debugging purpose.\n",
    "\n",
    "When any product goes live in production, then no need to log all info. If any unhandled situation occurs then\n",
    "that error/critical situation should be logged in. It will help to analyse the incident and provide the fix.\n",
    "    \n",
    "\"\"\"\n"
   ]
  },
  {
   "cell_type": "code",
   "execution_count": 24,
   "id": "0063984a",
   "metadata": {},
   "outputs": [
    {
     "name": "stderr",
     "output_type": "stream",
     "text": [
      "ERROR:SSKLogger:Hello, World!\n"
     ]
    }
   ],
   "source": [
    "\"\"\"\n",
    "10. Write a Python program that logs a message to a file named \"app.log\" with the following requirements:\n",
    "a) The log message should be \"Hello, World!\"\n",
    "b) The log level should be set to \"INFO.\"\n",
    "c) The log file should append new log entries without overwriting previous ones.\n",
    "\n",
    "Answer:\n",
    "\n",
    "\"\"\"\n",
    "\n",
    "# logging and formatter\n",
    "\n",
    "import os\n",
    "import logging\n",
    "\n",
    "logging.basicConfig(level = logging.INFO)\n",
    "\n",
    "logger = logging.getLogger(\"SSKLogger\")     # logger name\n",
    "\n",
    "dir_path = r'/home/sagark/iNeuron/python_task/homework'\n",
    "file_name = f\"app.log\"\n",
    "full_path = os.path.join(dir_path, file_name)\n",
    "fh = logging.FileHandler(full_path)\n",
    "fh.setLevel(logging.INFO)\n",
    "\n",
    "# use formatter to format the strings\n",
    "formatter = logging.Formatter('%(asctime)s: %(name)s - %(levelname)s: %(message)s')\n",
    "fh.setFormatter(formatter)\n",
    "\n",
    "logger.addHandler(fh)\n",
    "\n",
    "logger.error(\"Hello, World!\")\n"
   ]
  },
  {
   "cell_type": "code",
   "execution_count": 29,
   "id": "c259fdf2",
   "metadata": {},
   "outputs": [
    {
     "name": "stderr",
     "output_type": "stream",
     "text": [
      "INFO:SSKLogger:Arithmatic operations\n"
     ]
    },
    {
     "name": "stdout",
     "output_type": "stream",
     "text": [
      "Enter First Number: 9\n",
      "Enter Second Number: P\n"
     ]
    },
    {
     "name": "stderr",
     "output_type": "stream",
     "text": [
      "ERROR:SSKLogger:Value Error - invalid literal for int() with base 10: 'P'\n"
     ]
    }
   ],
   "source": [
    "\"\"\"\n",
    "11. Create a Python program that logs an error message to the console and a file named \"errors.log\" \n",
    "if an exception occurs during the program's execution. The error message should include the exception \n",
    "type and a timestamp.\n",
    "\n",
    "Answer:\n",
    "\n",
    "\"\"\"\n",
    "\n",
    "# logging and formatter\n",
    "\n",
    "import os\n",
    "import logging\n",
    "\n",
    "logging.basicConfig(level = logging.INFO)\n",
    "\n",
    "logger = logging.getLogger(\"SSKLogger\")     # logger name\n",
    "\n",
    "dir_path = r'/home/sagark/iNeuron/python_task/homework'\n",
    "file_name = f\"errors.log\"\n",
    "full_path = os.path.join(dir_path, file_name)\n",
    "fh = logging.FileHandler(full_path)\n",
    "fh.setLevel(logging.ERROR)\n",
    "\n",
    "# use formatter to format the strings\n",
    "formatter = logging.Formatter('%(asctime)s: %(name)s - %(levelname)s: %(message)s')\n",
    "fh.setFormatter(formatter)\n",
    "\n",
    "logger.addHandler(fh)\n",
    "\n",
    "try:\n",
    "    logger.info(\"Arithmatic operations\")\n",
    "    \n",
    "    num1 = int(input(\"Enter First Number: \"))\n",
    "    num2 = int(input(\"Enter Second Number: \"))\n",
    "    \n",
    "    try:\n",
    "        res = num1 / num2\n",
    "        logger.debug(f\"Division result = {res}\")\n",
    "        print(f\"Division result = {res}\")\n",
    "    \n",
    "    except ZeroDivisionError as zde:\n",
    "        logger.error(f\"Zero Division Error - {zde}\")\n",
    "\n",
    "except ValueError as ve:\n",
    "    logger.error(f\"Value Error - {ve}\")\n",
    "\n",
    "except ArithmeticError as ae:\n",
    "    logger.error(f\"Arithmetic Error - {ae}\")\n"
   ]
  },
  {
   "cell_type": "code",
   "execution_count": null,
   "id": "27909a14",
   "metadata": {},
   "outputs": [],
   "source": []
  }
 ],
 "metadata": {
  "kernelspec": {
   "display_name": "Python 3",
   "language": "python",
   "name": "python3"
  },
  "language_info": {
   "codemirror_mode": {
    "name": "ipython",
    "version": 3
   },
   "file_extension": ".py",
   "mimetype": "text/x-python",
   "name": "python",
   "nbconvert_exporter": "python",
   "pygments_lexer": "ipython3",
   "version": "3.8.8"
  }
 },
 "nbformat": 4,
 "nbformat_minor": 5
}
